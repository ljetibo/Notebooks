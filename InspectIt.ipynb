{
 "metadata": {
  "name": "",
  "signature": "sha256:0533c1ba79168aeef79b23df757d79ae193b1426f702ae87ca2691f7920ec6fc"
 },
 "nbformat": 3,
 "nbformat_minor": 0,
 "worksheets": [
  {
   "cells": [
    {
     "cell_type": "heading",
     "level": 1,
     "metadata": {},
     "source": [
      "Using inspect module to browse through badly documented modules"
     ]
    },
    {
     "cell_type": "markdown",
     "metadata": {},
     "source": [
      "<h3>Index:</h3>\n",
      "<ol>\n",
      "<li><b><a href=\"#Main-idea\">Main idea</a></b> - get a general approach to solving above issue</li>\n",
      "<li><b><a href=\"#InspectIt-class\">InspectIt class initialization</a></b> - how to get all classes, functions, methods out of a module and into a class</li>\n",
      "<li><b><a href=\"#Printing-summary-of-detected-classes,-modules-and-functions\">Printing summary</a></b> - how to produce a nice print for overview of all classes, methods and functions</li>\n",
      "<li><b><a href=\"#Getting-source-code\">Getting source code</a></b> - how to retrieve source code from .py files for methods/functions in question</li>\n",
      "<li><b><a href=\"#Full-code-with-examples\">Full code with examples</a></b> - For those more knowleadgable that aren't interested explanations, or in a hurry to explore</li>\n",
      "<li><b><a href=\"#Important-notes\">Important notes</a></b> - compatibility and other notes</li>\n",
      "</ol>"
     ]
    },
    {
     "cell_type": "heading",
     "level": 2,
     "metadata": {},
     "source": [
      "Main idea"
     ]
    },
    {
     "cell_type": "markdown",
     "metadata": {},
     "source": [
      "We want to grab another module, and print out all existing classes, their methods and all functions present in that module. <br />Added to that we want to be able to get source code for each method and function.\n",
      "\n",
      "Inspect module, that comes in standard with Python 3.4 installation (and older versions as well),\n",
      "has some very interesting less known functions that'll make our job here straight out easy. \n",
      "First off let's run through the inspect module functions fast:<br /><br />\n",
      "<code>>>> help(inspect.getmembers)\n",
      "Help on function getmembers in module inspect:\n",
      "\n",
      "getmembers(object, predicate=None)\n",
      "    Return all members of an object as (name, value) pairs sorted by name.\n",
      "    Optionally, only return members that satisfy a given predicate.</code>\n",
      "    \n",
      "Predicates are given by any one of the inspect.isclass, isfunction, ismethod, iscode functions of inspect class. <br/>\n",
      "Later on we'll also use: <br/><br />\n",
      "<code>>>> help(inspect.indentsize)\n",
      "Help on function indentsize in module inspect:\n",
      "\n",
      "indentsize(line)\n",
      "Return the indent size, in spaces, at the start of a line of text.</code>\n",
      "\n",
      "\n",
      "Those are pretty much all functions from inspect module we'll be using. \n",
      "One to get members of objects, and 5 others to clasify what kind of members they are. We're going to sort the retrieved objects into a class, and write functions to make a nice print out of those lists, and to retrieve the source code."
     ]
    },
    {
     "cell_type": "heading",
     "level": 2,
     "metadata": {},
     "source": [
      "InspectIt class"
     ]
    },
    {
     "cell_type": "code",
     "collapsed": false,
     "input": [
      "import inspect\n",
      "    \n",
      "class InspectIt():\n",
      "    def __init__(self, object):\n",
      "        self.obj = object\n",
      "        self.classes = inspect.getmembers(object, predicate=inspect.isclass)\n",
      "        self.methods ={owner[0]:inspect.getmembers(owner[1], predicate=inspect.isfunction)\n",
      "            for owner in self.classes\n",
      "            }\n",
      "\n",
      "        self.functions = inspect.getmembers(object, predicate=inspect.isfunction)\n",
      "        self.snippets = inspect.getmembers(object, predicate=inspect.iscode)"
     ],
     "language": "python",
     "metadata": {},
     "outputs": [],
     "prompt_number": 2
    },
    {
     "cell_type": "markdown",
     "metadata": {},
     "source": [
      "The only interesting thing here is the way we retrieve methods. Generally anything of the form (x for x in something) are called generator expressions. We can turn those into lists, or dictionaries: "
     ]
    },
    {
     "cell_type": "code",
     "collapsed": false,
     "input": [
      ">>> (x for x in range(6))\n",
      "<generator object <genexpr> at 0x02E4A198>\n",
      ">>> list(x for x in range(6))\n",
      "[0, 1, 2, 3, 4, 5]\n",
      ">>> {str(x):x for x in range(6)}\n",
      "{'4': 4, '0': 0, '2': 2, '3': 3, '1': 1, '5': 5}"
     ],
     "language": "python",
     "metadata": {},
     "outputs": []
    },
    {
     "cell_type": "markdown",
     "metadata": {},
     "source": [
      "Let's disect the way we retreive methods: \n",
      "<ul>\n",
      "<li> By parenthesis we know we're retrieving a dict</li>\n",
      "<li> By for loop we know we're browsing through all classes.</li>\n",
      "<li> By comparing it to the generator expression above we can see what we're retrieving:<br/> <code>owner[0]:inspect.getmembers(owner[1], predicate=inspect.isfunction)</code></li>\n",
      "</ul>"
     ]
    },
    {
     "cell_type": "markdown",
     "metadata": {},
     "source": [
      "Inspect's module getmembers returns a list in which classes are stored as tuples (class_name, class_as_an_object). Therefore self.classes is a list of tuples where first tuple member is the class name and the second member is class as an object we can reference and use to call it.\n",
      "Now we see that <code>owner[0]</code> refers to the first tuple member and that is class name and <code>owner[1]</code> is the class as an object\n",
      "We conclude that we are retrieving a dictionary with<br/> <code>(key=\"class_name\" : value=inspect.getmembers(inspect.getmembers(owner[1], predicate=inspect.isfunction))</code>"
     ]
    },
    {
     "cell_type": "markdown",
     "metadata": {},
     "source": [
      "Here we run into a little snag. Inspect module is not able to differentiate if something's a function, or an unbound method. Unbound methods are methods that don't have objects to act on, basicall all methods are unbound if the class isn't instantiated. \n",
      "\n",
      "Unfortunatelly for us that means that we can't use the inspect.ismethod function because we don't want to have to instantiate every single class in the module we're inspecting.\n",
      "Example of how inspect.ismethod doesn't detect unbound methods:<br/><code>\n",
      "inspect.ismethod(InspectIt.some_method)-->False\n",
      "inspect.ismethod(InspectIt(your_module).some_method)-->True</code>"
     ]
    },
    {
     "cell_type": "code",
     "collapsed": false,
     "input": [
      "class Test:\n",
      "    def __init__(self):\n",
      "        pass\n",
      "    def method():\n",
      "        print(\"this is a method\")\n",
      "\n",
      "print(Test)\n",
      "print(Test())\n",
      "print(Test.method)\n",
      "print(Test().method)\n",
      "print(inspect.ismethod(Test.method))\n",
      "print(inspect.ismethod(Test().method))"
     ],
     "language": "python",
     "metadata": {},
     "outputs": [
      {
       "output_type": "stream",
       "stream": "stdout",
       "text": [
        "<class '__main__.Test'>\n",
        "<__main__.Test object at 0x039AD970>\n",
        "<function Test.method at 0x03D182B8>\n",
        "<bound method Test.method of <__main__.Test object at 0x039AD970>>\n",
        "False\n",
        "True\n"
       ]
      }
     ],
     "prompt_number": 20
    },
    {
     "cell_type": "markdown",
     "metadata": {},
     "source": [
      "Because of that we used a little trick. We retrieve each class as a separate object(<code>owner[1]</code>) and then retrieve all objects classified as <code>inspect.isfunction</code> from that. That way we get all the class methods (private and hidden too) and do not have to instantiate the class itself. \n",
      "Following the example above:"
     ]
    },
    {
     "cell_type": "code",
     "collapsed": false,
     "input": [
      "inspect.getmembers(Test, predicate=inspect.isfunction)"
     ],
     "language": "python",
     "metadata": {},
     "outputs": []
    },
    {
     "cell_type": "markdown",
     "metadata": {},
     "source": [
      "We can see that by providing a class as an object we are able to extract its modules. Since we have classes as object already stored in our tuples all that's needed is:"
     ]
    },
    {
     "cell_type": "code",
     "collapsed": false,
     "input": [
      "inspect.getmembers(owner[1], predicate=inspect.isfunction)"
     ],
     "language": "python",
     "metadata": {},
     "outputs": []
    },
    {
     "cell_type": "markdown",
     "metadata": {},
     "source": [
      "What I wrote there is jsut a generator expression that's the equivalent of:"
     ]
    },
    {
     "cell_type": "code",
     "collapsed": false,
     "input": [
      "self.methods = dict()\n",
      "for owner_class in self.classes:\n",
      "   owner = owner_class[0]\n",
      "   clas =  owner_class[1]\n",
      "   self.methods[owner] = inspect.getmembers(clas, predicate=inspect.isfunction)"
     ],
     "language": "python",
     "metadata": {},
     "outputs": []
    },
    {
     "cell_type": "heading",
     "level": 2,
     "metadata": {},
     "source": [
      "Printing summary of detected classes, modules and functions"
     ]
    },
    {
     "cell_type": "markdown",
     "metadata": {},
     "source": [
      "Now that we've collected all the classes, their methods and functions, it's time we do a nice print out of them so we can get to see what they do."
     ]
    },
    {
     "cell_type": "code",
     "collapsed": false,
     "input": [
      "def _print_class_methods(self):\n",
      "    for clas in self.classes:\n",
      "        print(\"Class:\", end=\"\\t\")\n",
      "        print(clas[0])\n",
      "        for method1, method2 in zip(self.methods[clas[0]][0::2],self.methods[clas[0]][1::2]) :\n",
      "            print(\"\\t\\t{0:^25s}  ||  {1:^25s}\".format(method1[0],method2[0]))\n",
      "            #if your function has more than 25 characters you're doing\n",
      "            #something wrong\n",
      "        \n",
      "def _print_func(self):\n",
      "    print(\"Functions:\")\n",
      "    for func1, func2 in zip(self.functions[0::2],self.functions[1::2]) :\n",
      "        print(\"\\t{0:<25s}  ||  {1:<25s}\".format(func1[0],func2[0]))\n",
      "        #if your function has more than 25 characters you're doing\n",
      "        #something wrong\n",
      "\n",
      "@property\n",
      "def summary(self):\n",
      "    self._print_class_methods()\n",
      "    print()\n",
      "    self._print_func()"
     ],
     "language": "python",
     "metadata": {},
     "outputs": []
    },
    {
     "cell_type": "markdown",
     "metadata": {},
     "source": [
      "So fairly straight-forward. We have <code>@property</code> decorator that enables us to call the summary without parenthesis \"()\".\n",
      "\n",
      "Both print functions are pretty straight-forward too: <br/>\n",
      "<code>for method1, method2 in zip(self.methods[clas[0]][0::2],self.methods[clas[0]][1::2]) :</code> <br/>\n",
      "I wanted to be able to print 2 methods/function per line. To do that first we need to create a list in which we'll group 2 by 2 elements together and print both simultaneously. \n",
      "I use zip and extended slice notation to do just that as shown on example below:"
     ]
    },
    {
     "cell_type": "code",
     "collapsed": false,
     "input": [
      "list1 = ((\"name1\", \"object1\"), (\"name2\", \"object2\"), (\"name3\", \"object3\"), (\"name4\", \"object4\"))\n",
      "print(\"Print out every second member starting from the first one: \\n\", list1[::2])\n",
      "\n",
      "print(\"\\nPrint every second member starting from the 2nd member of the list: \\n\", list1[1::2])\n",
      "\n",
      "print(\"\\nPrint just name of every second member: \\n\", list1[::2][0])\n",
      "\n",
      "print(\"\\nPrint them side by side: \\n\")\n",
      "for member1, member2 in zip(list1[0::2], list1[1::2]):\n",
      "    print(member1,member2)\n",
      "    \n",
      "print(\"\\nPrint them side by side, just the names this time: \\n\")\n",
      "for name1, name2 in zip(list1[0::2], list1[1::2]):\n",
      "    print(name1[0],name2[0])\n"
     ],
     "language": "python",
     "metadata": {},
     "outputs": [
      {
       "output_type": "stream",
       "stream": "stdout",
       "text": [
        "Print out every second member starting from the first one: \n",
        " (('name1', 'object1'), ('name3', 'object3'))\n",
        "\n",
        "Print every second member starting from the 2nd member of the list: \n",
        " (('name2', 'object2'), ('name4', 'object4'))\n",
        "\n",
        "Print just name of every second member: \n",
        " ('name1', 'object1')\n",
        "\n",
        "Print them side by side: \n",
        "\n",
        "('name1', 'object1') ('name2', 'object2')\n",
        "('name3', 'object3') ('name4', 'object4')\n",
        "\n",
        "Print them side by side, just the names this time: \n",
        "\n",
        "name1 name2\n",
        "name3 name4\n"
       ]
      }
     ],
     "prompt_number": 21
    },
    {
     "cell_type": "markdown",
     "metadata": {},
     "source": [
      "Additionally to that the: <code>print(\"\\t{0:<25s}  ||  {1:<25s}\".format(func1[0],func2[0]))</code> statement just makes sure that there's a 25 character space reserved for each name during printing, that the start of the printing be tabulated in by two tabs (\"\\t\\t\") and that they are aligned to the left (\"<\")."
     ]
    },
    {
     "cell_type": "heading",
     "level": 2,
     "metadata": {},
     "source": [
      "Getting source code"
     ]
    },
    {
     "cell_type": "markdown",
     "metadata": {},
     "source": [
      "Considering that Python is whitespace aware, our job is to locate on which line does a function start, with which indentations and after that it's just a matter of making sure that we break the print loop when we encounter text that is less indented than the one we started with.\n",
      "\n",
      "One problem will be presented in form of doc_string comments (those that start with \"\"\") because people often don't pay attention to indentation after that and often start the comment from a lesser indentation. We don't want that to break our print loop.\n",
      "\n",
      "Let's divide the work: <br/>\n",
      "<strong>1)</strong> We'll make a function that'll print out blocks of code called _print_block. It will take a list of lines (one member of list represents 1 line of text) and a start line. It will print text from startline to the end of code block no matter what kind of block is it (mehtod/class/function). It will also keep track of doc_strings to make sure it doesn't stop too early."
     ]
    },
    {
     "cell_type": "code",
     "collapsed": false,
     "input": [
      "def _print_block(self, start, read):\n",
      "    n_tabs = inspect.indentsize(read[start]) #inspect module provides indentation count of the first line \n",
      "    in_block=True\n",
      "    print(read[start-1], end=\"\")#firstlineno gets set after declaration\n",
      "    while in_block:             #to include it in print go back 1 line \n",
      "        for char in range(n_tabs):\n",
      "            try:\n",
      "                if read[start][n_tabs:n_tabs+3] == '\"\"\"': #if starting line is doc_string, print it\n",
      "                    while not read[start].endswith('\"\"\"\\n'):#untill you find a line that ends with \"\"\"\n",
      "                        print(read[start], end=\"\")\n",
      "                        start+=1\n",
      "                    start+=1 #increase linenumber so that we avoid an infinite loop\n",
      "                    \n",
      "                if read[start][char] != \" \":#if the line starts with anything else\n",
      "                    #we've escaped the code block and it's time to stop printing\n",
      "                    in_block=False\n",
      "                else:\n",
      "                    print(read[start], end=\"\") #otherwise we're still in the code block so print the line\n",
      "                    start+=1\n",
      "\n",
      "            except:\n",
      "                pass"
     ],
     "language": "python",
     "metadata": {},
     "outputs": [],
     "prompt_number": 24
    },
    {
     "cell_type": "markdown",
     "metadata": {},
     "source": [
      "<strong>2)</strong> We'll make a function that'll take the name of a function/method we're looking for, and pass that name to a function specifically designed to send necessary parameters to print block,  depending if the sent name is a method, a function, or return an error message if nothing is found:"
     ]
    },
    {
     "cell_type": "code",
     "collapsed": false,
     "input": [
      "def get_code(self, name, owner_class=False):\n",
      "    found = False\n",
      "    for func in self.functions: #First we check if the sent name is found in list of functions \n",
      "        if name == func[0]:     #we retrieved. We set found true and print out its code.\n",
      "            self._get_func_code(name)\n",
      "            found = True\n",
      "\n",
      "    if owner_class: #we check owner's name has been sent, if it has\n",
      "        try: #we check if name is also found in methods of only owner class and not all methods. \n",
      "            self._get_method_code(owner_class, name) \n",
      "            found = True \n",
      "        except:\n",
      "            raise NameError(\"No methods with that name found in class\")\n",
      "    else: #if owner name has  not been sent we check if a method can be found in the list of all methods.\n",
      "          #This will happen regardless if function has already been found or not.\n",
      "        for owner, methods in self.methods.items():\n",
      "            for method_name, method in methods:\n",
      "                if method_name == name:\n",
      "                    self._get_method_code(owner, method_name)\n",
      "                    found = True\n",
      "                    \n",
      "    if not found:\n",
      "        raise NameError(\"No methods or functions with that name found\")"
     ],
     "language": "python",
     "metadata": {},
     "outputs": [],
     "prompt_number": 27
    },
    {
     "cell_type": "markdown",
     "metadata": {},
     "source": [
      "As you can see there is nothing special about get_code except different if-else, try-except blocks that handle cases. One feature not mentioned is the <code>owner=False</code>. <br/>\n",
      "If a user knows the name of a method, i.e. <code>init</code> and if he doesn't send a name of the owner class to the function, all found <code>init</code>'s will be printed. For large modules that is unacceptable behaviour. If a user has a special class in mind, which <code>init</code> function he wants to see, specifying <code>owner=class_name</code> alongside the function name will ensure that only that particular <code>init</code> method gets printed and the rest are ignored.\n",
      "Functions named <code>init</code> will also be printed regardless of that fact!\n",
      "\n",
      "<strong>3)</strong> Actual reading is done in 2 separate functions specifically made for handling functions or methods"
     ]
    },
    {
     "cell_type": "code",
     "collapsed": false,
     "input": [
      "def _get_func_code(self, name):\n",
      "    file = open(self.obj.__file__)\n",
      "    read = file.readlines()\n",
      "    func = getattr(self.obj, str(name)).__code__\n",
      "    func_line = func.co_firstlineno\n",
      "    self._print_block(func_line,read)\n",
      "        \n",
      "            \n",
      "def _get_method_code(self, owner, name):\n",
      "    print(\"Method {} of clas {}\\n\".format(name, owner))\n",
      "    file = open(self.obj.__file__)\n",
      "    read = file.readlines()\n",
      "    clas = getattr(self.obj, owner)\n",
      "    func = getattr(clas, str(name)).__code__\n",
      "    func_line = func.co_firstlineno\n",
      "    self._print_block(func_line, read)\n",
      "    print(\"\\n\\n\")"
     ],
     "language": "python",
     "metadata": {},
     "outputs": []
    },
    {
     "cell_type": "markdown",
     "metadata": {},
     "source": [
      "Fairly similar as you can see. General idea follows the pattern:\n",
      "<ul>\n",
      "<li>Open file that contains the source code. We can find that by inspecting the __file__ attribute of inspected module</li>\n",
      "<li>Read the file into list of lines. This is done by .readlines()</li>\n",
      "<li>If it's a function: Retrieve function as object, and look at its __code__ atribute. If it's a method, first retrieve class as an object, then retrieve method as an object and then look at its __code__ attribute.</li>\n",
      "<li>__code__ attribute has great properties like co_firstlineno which returns first line of where the code starts. Mind you this is after the declarations (def...) and therefore we need to go back 1 line when printing to print the full function.</li>\n",
      "<li>Call print block function and send it list of lines, and starting line number</li>\n",
      "</ul>"
     ]
    },
    {
     "cell_type": "heading",
     "level": 2,
     "metadata": {},
     "source": [
      "Full code with examples"
     ]
    },
    {
     "cell_type": "code",
     "collapsed": false,
     "input": [
      "import inspect\n",
      "\n",
      "class InspectIt():\n",
      "    \n",
      "    def __init__(self, object):\n",
      "        self.obj = object\n",
      "        self.classes = inspect.getmembers(object, predicate=inspect.isclass)\n",
      "        self.methods ={owner[0]:inspect.getmembers(owner[1], predicate=inspect.isfunction)\n",
      "                       for owner in self.classes #run through all classes in module\n",
      "                       }\n",
      "        self.functions = inspect.getmembers(object, predicate=inspect.isfunction)\n",
      "        self.snippets = inspect.getmembers(object, predicate=inspect.iscode)\n",
      "\n",
      "\n",
      "    def _print_block(self, start, read):\n",
      "        n_tabs = inspect.indentsize(read[start])\n",
      "        in_block=True\n",
      "        print(read[start-1], end=\"\")\n",
      "        while in_block:             \n",
      "            for char in range(n_tabs):\n",
      "                try:\n",
      "                    if read[start][n_tabs:n_tabs+3] == '\"\"\"':\n",
      "                        while not read[start].endswith('\"\"\"\\n'):\n",
      "                            print(read[start], end=\"\")\n",
      "                            start+=1\n",
      "                        start+=1\n",
      "                    if read[start][char] != \" \":\n",
      "                        in_block=False\n",
      "                    else:\n",
      "                        print(read[start], end=\"\")\n",
      "                        start+=1\n",
      "                        \n",
      "                except:\n",
      "                    pass\n",
      "        \n",
      "\n",
      "    def _get_func_code(self, name):\n",
      "        file = open(self.obj.__file__)\n",
      "        read = file.readlines()\n",
      "        func = getattr(self.obj, str(name)).__code__\n",
      "        func_line = func.co_firstlineno\n",
      "        self._print_block(func_line,read)\n",
      "        \n",
      "            \n",
      "    def _get_method_code(self, owner, name):\n",
      "        print(\"Method {} of clas {}\\n\".format(name, owner))\n",
      "        file = open(self.obj.__file__)\n",
      "        read = file.readlines()\n",
      "        clas = getattr(self.obj, owner)\n",
      "        func = getattr(clas, str(name)).__code__\n",
      "        func_line = func.co_firstlineno\n",
      "        self._print_block(func_line, read)\n",
      "        print(\"\\n\\n\")\n",
      "\n",
      "\n",
      "    def get_code(self, name, owner_class=False):\n",
      "        found = False\n",
      "        for func in self.functions:\n",
      "            if name == func[0]:\n",
      "                self._get_func_code(name)\n",
      "                found = True\n",
      "                \n",
      "        if owner_class:\n",
      "            try:\n",
      "                self._get_method_code(owner_class, name)\n",
      "                found = True\n",
      "            except:\n",
      "                return(\"No methods of functions found\")\n",
      "        else:\n",
      "            for owner, methods in self.methods.items():\n",
      "                for method_name, method in methods:\n",
      "                    if method_name == name:\n",
      "                        self._get_method_code(owner, method_name)\n",
      "                        found = True\n",
      "\n",
      "        if not found:\n",
      "            raise NameError(\"No methods or functions with that name found\")\n",
      "\n",
      "    def _print_class_methods(self):\n",
      "        for clas in self.classes:\n",
      "            print(\"Class:\", end=\"\\t\")\n",
      "            print(clas[0])\n",
      "            for method1, method2 in zip(self.methods[clas[0]][0::2],self.methods[clas[0]][1::2]) :\n",
      "                print(\"\\t\\t{0:^25s}  ||  {1:^25s}\".format(method1[0],method2[0]))\n",
      "                #if your function has more than 25 characters you're doing\n",
      "                #something wrong\n",
      "        \n",
      "    def _print_func(self):\n",
      "        print(\"Functions:\")\n",
      "        for func1, func2 in zip(self.functions[0::2],self.functions[1::2]) :\n",
      "            print(\"\\t{0:<25s}  ||  {1:<25s}\".format(func1[0],func2[0]))\n",
      "            #if your function has more than 25 characters you're doing\n",
      "            #something wrong\n",
      "\n",
      "    @property\n",
      "    def summary(self):\n",
      "        self._print_class_methods()\n",
      "        print()\n",
      "        self._print_func()"
     ],
     "language": "python",
     "metadata": {},
     "outputs": [],
     "prompt_number": 25
    },
    {
     "cell_type": "code",
     "collapsed": false,
     "input": [
      "import inspect\n",
      "inspected = InspectIt(inspect)\n",
      "inspected.summary\n",
      "print(\"\\n\\n----------------------------------------------------------------------------\")\n",
      "inspected.get_code(\"getcomments\")\n",
      "print(\"\\n\\n----------------------------------------------------------------------------\")\n",
      "inspected.get_code(\"__init__\", owner_class=\"BlockFinder\")"
     ],
     "language": "python",
     "metadata": {},
     "outputs": [
      {
       "output_type": "stream",
       "stream": "stdout",
       "text": [
        "Class:\tArgInfo\n",
        "\t\t     __getnewargs__        ||        __getstate__       \n",
        "\t\t         __new__           ||          __repr__         \n",
        "\t\t         _asdict           ||          _replace         \n",
        "Class:\tArgSpec\n",
        "\t\t     __getnewargs__        ||        __getstate__       \n",
        "\t\t         __new__           ||          __repr__         \n",
        "\t\t         _asdict           ||          _replace         \n",
        "Class:\tArguments\n",
        "\t\t     __getnewargs__        ||        __getstate__       \n",
        "\t\t         __new__           ||          __repr__         \n",
        "\t\t         _asdict           ||          _replace         \n",
        "Class:\tAttribute\n",
        "\t\t     __getnewargs__        ||        __getstate__       \n",
        "\t\t         __new__           ||          __repr__         \n",
        "\t\t         _asdict           ||          _replace         \n",
        "Class:\tBlockFinder\n",
        "\t\t        __init__           ||         tokeneater        \n",
        "Class:\tBoundArguments\n",
        "\t\t         __eq__            ||          __init__         \n",
        "Class:\tClosureVars\n",
        "\t\t     __getnewargs__        ||        __getstate__       \n",
        "\t\t         __new__           ||          __repr__         \n",
        "\t\t         _asdict           ||          _replace         \n",
        "Class:\tEndOfBlock\n",
        "Class:\tFullArgSpec\n",
        "\t\t     __getnewargs__        ||        __getstate__       \n",
        "\t\t         __new__           ||          __repr__         \n",
        "\t\t         _asdict           ||          _replace         \n",
        "Class:\tModuleInfo\n",
        "\t\t     __getnewargs__        ||        __getstate__       \n",
        "\t\t         __new__           ||          __repr__         \n",
        "\t\t         _asdict           ||          _replace         \n",
        "Class:\tOrderedDict\n",
        "\t\t  _OrderedDict__update     ||         __delitem__       \n",
        "\t\t         __eq__            ||          __init__         \n",
        "\t\t        __iter__           ||           __ne__          \n",
        "\t\t       __reduce__          ||          __repr__         \n",
        "\t\t      __reversed__         ||         __setitem__       \n",
        "\t\t       __sizeof__          ||            clear          \n",
        "\t\t          copy             ||            items          \n",
        "\t\t          keys             ||         move_to_end       \n",
        "\t\t           pop             ||           popitem         \n",
        "\t\t       setdefault          ||           update          \n",
        "Class:\tParameter\n",
        "\t\t         __eq__            ||          __init__         \n",
        "\t\t         __ne__            ||          __repr__         \n",
        "\t\t         __str__           ||           replace         \n",
        "Class:\tSignature\n",
        "\t\t         __eq__            ||          __init__         \n",
        "\t\t         __ne__            ||           __str__         \n",
        "\t\t          _bind            ||            bind           \n",
        "\t\t      bind_partial         ||           replace         \n",
        "Class:\tTraceback\n",
        "\t\t     __getnewargs__        ||        __getstate__       \n",
        "\t\t         __new__           ||          __repr__         \n",
        "\t\t         _asdict           ||          _replace         \n",
        "Class:\t_ClassMethodWrapper\n",
        "Class:\t_MethodWrapper\n",
        "Class:\t_ParameterKind\n",
        "\t\t         __new__           ||          __repr__         \n",
        "Class:\t_WrapperDescriptor\n",
        "Class:\t_empty\n",
        "Class:\t_void\n",
        "Class:\tattrgetter\n",
        "\n",
        "Functions:\n",
        "\t_check_class               ||  _check_instance          \n",
        "\t_getfullargs               ||  _is_type                 \n",
        "\t_main                      ||  _missing_arguments       \n",
        "\t_shadowed_dict             ||  _signature_bound_method  \n",
        "\t_signature_from_builtin    ||  _signature_fromstr       \n",
        "\t_signature_get_bound_param  ||  _signature_get_partial   \n",
        "\t_signature_get_user_defined_method  ||  _signature_internal      \n",
        "\t_signature_is_builtin      ||  _signature_is_functionlike\n",
        "\t_signature_strip_non_python_syntax  ||  _static_getmro           \n",
        "\t_too_many                  ||  classify_class_attrs     \n",
        "\tcleandoc                   ||  currentframe             \n",
        "\tfindsource                 ||  formatannotation         \n",
        "\tformatannotationrelativeto  ||  formatargspec            \n",
        "\tformatargvalues            ||  getabsfile               \n",
        "\tgetargs                    ||  getargspec               \n",
        "\tgetargvalues               ||  getattr_static           \n",
        "\tgetblock                   ||  getcallargs              \n",
        "\tgetclasstree               ||  getclosurevars           \n",
        "\tgetcomments                ||  getdoc                   \n",
        "\tgetfile                    ||  getframeinfo             \n",
        "\tgetfullargspec             ||  getgeneratorlocals       \n",
        "\tgetgeneratorstate          ||  getinnerframes           \n",
        "\tgetlineno                  ||  getmembers               \n",
        "\tgetmodule                  ||  getmoduleinfo            \n",
        "\tgetmodulename              ||  getmro                   \n",
        "\tgetouterframes             ||  getsource                \n",
        "\tgetsourcefile              ||  getsourcelines           \n",
        "\tindentsize                 ||  isabstract               \n",
        "\tisbuiltin                  ||  isclass                  \n",
        "\tiscode                     ||  isdatadescriptor         \n",
        "\tisframe                    ||  isfunction               \n",
        "\tisgenerator                ||  isgeneratorfunction      \n",
        "\tisgetsetdescriptor         ||  ismemberdescriptor       \n",
        "\tismethod                   ||  ismethoddescriptor       \n",
        "\tismodule                   ||  isroutine                \n",
        "\tistraceback                ||  namedtuple               \n",
        "\tsignature                  ||  stack                    \n",
        "\ttrace                      ||  unwrap                   \n",
        "\n",
        "\n",
        "----------------------------------------------------------------------------\n",
        "def getcomments(object):\n",
        "    \"\"\"Get lines of comments immediately preceding an object's source code.\n",
        "\n",
        "    Returns None when source can't be found.\n",
        "    try:\n",
        "        lines, lnum = findsource(object)\n",
        "    except (OSError, TypeError):\n",
        "        return None\n",
        "\n",
        "\n",
        "----------------------------------------------------------------------------\n",
        "Method __init__ of clas BlockFinder\n",
        "\n",
        "    def __init__(self):\n",
        "        self.indent = 0\n",
        "        self.islambda = False\n",
        "        self.started = False\n",
        "        self.passline = False\n",
        "        self.last = 1\n",
        "\n",
        "\n",
        "\n"
       ]
      }
     ],
     "prompt_number": 26
    },
    {
     "cell_type": "heading",
     "level": 2,
     "metadata": {},
     "source": [
      "Important notes"
     ]
    },
    {
     "cell_type": "markdown",
     "metadata": {},
     "source": [
      "There is a distinct problem that happens while inspecting everything non-module in form. Prime examples are packages, that are called by their init.py file. You will not be able to retrieve any kind of usefull information from those. I.e. mpl_toolkits, or any packages that define load() wherein they import their code in module like manner. \n",
      "\n",
      "You will be able to retrieve only the load function but to inspect any particular module from that package, you will have to import it individually by providing a direct path to it's source files. \n",
      "This heavily defeats the purpose of this program, the fact that you have to know where it is to look at it, but I haven't found the time or interest yet to try and get rid of this.\n",
      "\n",
      "There is also the problem with builtins. Often in more advanced programs builtin functions are rewritten with additional or completely changed implementations which can be ingnored by InspectIt. \n",
      "\n",
      "\n",
      "The last issue to mention would most likely be inheritance related problems. Child classes that do not re-implement inherited methods and functions don't get screened when making a summary and therefore it's possible to see functions that aren't defined in that particular class to be used while looking at source-code.\n",
      "\n",
      "\n",
      "Program was written in Python 3.4.1 and will <b>NOT</b> be compatible in its current state to older pyhton versions (it hasn't been tested for all python 3> versions but generally should work just fine. <br />\n",
      "Program will not run on python < 3 without modifications. First modification has been provided here (for loop to replace the generator expression). What should also be changed are all the print statements that contain additional end keywords. \n",
      "Such prints should be replaced then with a comma as in examples bellow.\n",
      "Generally all other string formatting should still work"
     ]
    },
    {
     "cell_type": "code",
     "collapsed": false,
     "input": [
      "for i in range(5):\n",
      "    print(i, end=\"\")\n",
      "    \n",
      "\n",
      "#should be changed to\n",
      "\n",
      "for i in range(5):\n",
      "    print i, #notice the lack of (), if you add those you'll be printing list members each in newline\n",
      "    "
     ],
     "language": "python",
     "metadata": {},
     "outputs": [
      {
       "output_type": "stream",
       "stream": "stdout",
       "text": [
        "01234"
       ]
      }
     ],
     "prompt_number": 85
    }
   ],
   "metadata": {}
  }
 ]
}