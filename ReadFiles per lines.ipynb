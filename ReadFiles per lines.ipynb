{
 "metadata": {
  "name": "",
  "signature": "sha256:13dcc6ccc6b321464c72fbd2c74ffbc8cc077b4e3a5703b7f0df2977bbc51199"
 },
 "nbformat": 3,
 "nbformat_minor": 0,
 "worksheets": [
  {
   "cells": [
    {
     "cell_type": "markdown",
     "metadata": {},
     "source": [
      "<h1> Read files by lines </h1>\n",
      "\n",
      "Read a file send by ReadLines(path, n), n lines at a time."
     ]
    },
    {
     "cell_type": "code",
     "collapsed": false,
     "input": [
      "import os\n",
      "import time\n",
      "import sys\n",
      "from IPython.core.display import clear_output  "
     ],
     "language": "python",
     "metadata": {},
     "outputs": [],
     "prompt_number": 2
    },
    {
     "cell_type": "code",
     "collapsed": false,
     "input": [
      "def keypress():\n",
      "    print(\"CONTINUE---------------------------------------\")\n",
      "    keystroke = False\n",
      "    if not (keystroke):\n",
      "        stroke = input()\n",
      "        keystroke = True\n",
      "        return True\n",
      "    \n",
      "    \n",
      "def ReadLines(path=\"test1.txt\", n=12):\n",
      "    file = open(path, mode=\"r\")\n",
      "    rows = (line for line in file.readlines())\n",
      "    i = 1\n",
      "    for rownum, line in enumerate(rows):\n",
      "        print(\"\\x1b[31m\"+ str(rownum)+ \"\\x1b[0m\",end=\". \")\n",
      "        print (line)\n",
      "        i+=1\n",
      "        if i>n:\n",
      "            i=0\n",
      "            keypressed = False\n",
      "            while not keypressed:\n",
      "                time.sleep(0.1)\n",
      "                keypressed = keypress()\n",
      "            clear_output()\n",
      "ReadLines()"
     ],
     "language": "python",
     "metadata": {},
     "outputs": [
      {
       "output_type": "stream",
       "stream": "stdout",
       "text": [
        "\u001b[31m194\u001b[0m. I'M THE DEVIL, let the rock-off begin, LOVE ME!!\n",
        "\n",
        "\u001b[31m195\u001b[0m. I'M THE DEVIL, let the rock-off begin, LOVE ME!!\n",
        "\n",
        "\u001b[31m196\u001b[0m. I'M THE DEVIL, let the rock-off begin, LOVE ME!!\n",
        "\n",
        "\u001b[31m197\u001b[0m. I'M THE DEVIL, let the rock-off begin, LOVE ME!!\n",
        "\n",
        "\u001b[31m198\u001b[0m. I'M THE DEVIL, let the rock-off begin, LOVE ME!!\n",
        "\n",
        "\u001b[31m199\u001b[0m. I'M THE DEVIL, let the rock-off begin, LOVE ME!!\n",
        "\n"
       ]
      }
     ],
     "prompt_number": 7
    }
   ],
   "metadata": {}
  }
 ]
}